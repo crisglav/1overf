{
  "cells": [
    {
      "cell_type": "code",
      "execution_count": 12,
      "metadata": {
        "collapsed": false
      },
      "outputs": [],
      "source": [
        "%matplotlib inline"
      ]
    },
    {
      "cell_type": "code",
      "execution_count": 13,
      "metadata": {
        "collapsed": false
      },
      "outputs": [],
      "source": [
        "# General imports\n",
        "import matplotlib.pyplot as plt\n",
        "\n",
        "# Import the FOOOF object\n",
        "from fooof import FOOOF\n",
        "\n",
        "# Import some internal functions\n",
        "#   These are used here to demonstrate the algorithm\n",
        "#   You do not need to import these functions for standard usage of the module\n",
        "from fooof.sim.gen import gen_aperiodic\n",
        "from fooof.plts.spectra import plot_spectrum\n",
        "from fooof.plts.annotate import plot_annotated_peak_search\n",
        "\n",
        "# Import a utility to download and load example data\n",
        "from fooof.utils.download import load_fooof_data\n",
        "import os\n",
        "import scipy.io as sio\n",
        "import numpy as np"
      ]
    },
    {
      "cell_type": "code",
      "execution_count": 16,
      "metadata": {
        "collapsed": false
      },
      "outputs": [],
      "source": [
        "# Set whether to plot in log-log space\n",
        "plt_log = False\n",
        "# Define frequencies and power spectrum\n",
        "data_path = '../results/power/PFC/'\n",
        "allfiles = os.listdir(data_path)\n",
        "filename = allfiles[0]\n",
        "bidsID = os.path.splitext(filename)[0]\n",
        "\n",
        "# Import power files from matlab\n",
        "mat = sio.loadmat(os.path.join(data_path,filename))\n",
        "# Extract power and frequency from matlab structure\n",
        "spectrum = np.squeeze(mat['pow'])\n",
        "freqs = np.squeeze(mat['freq'])\n",
        "# Average spectrum\n",
        "spectrum = np.average(spectrum,0)"
      ]
    },
    {
      "cell_type": "code",
      "execution_count": 22,
      "metadata": {
        "collapsed": false
      },
      "outputs": [],
      "source": [
        "# Initialize a FOOOF object, with some settings\n",
        "#   These settings will be more fully described later in the tutorials\n",
        "fm = FOOOF(peak_width_limits=[0.5, 12], min_peak_height=0,aperiodic_mode='fixed')\n",
        "# Add data to the object\n",
        "fm.add_data(freqs, spectrum, [2, 40])"
      ]
    },
    {
      "cell_type": "markdown",
      "metadata": {},
      "source": [
        "The FOOOF object stores most of the intermediate steps internally.\n",
        "\n",
        "For this notebook, we will first fit the full model, as normal, but then step through,\n",
        "and visualize each step the algorithm took to come to that final fit.\n",
        "\n",
        "\n"
      ]
    },
    {
      "cell_type": "code",
      "execution_count": 25,
      "metadata": {
        "collapsed": false
      },
      "outputs": [],
      "source": [
        "# Fit the power spectrum model\n",
        "fm.fit(freqs, spectrum, [2, 40])"
      ]
    },
    {
      "cell_type": "code",
      "execution_count": 26,
      "metadata": {},
      "outputs": [
        {
          "name": "stdout",
          "output_type": "stream",
          "text": [
            "==================================================================================================\n",
            "                                                                                                  \n",
            "                                   FOOOF - POWER SPECTRUM MODEL                                   \n",
            "                                                                                                  \n",
            "                        The model was run on the frequency range 3 - 40 Hz                        \n",
            "                                 Frequency Resolution is 0.20 Hz                                  \n",
            "                                                                                                  \n",
            "                            Aperiodic Parameters (offset, exponent):                              \n",
            "                                          0.3599, 0.8381                                          \n",
            "                                                                                                  \n",
            "                                       2 peaks were found:                                        \n",
            "                                CF:   6.21, PW:  0.239, BW:  2.07                                 \n",
            "                                CF:  13.73, PW:  0.100, BW:  6.90                                 \n",
            "                                                                                                  \n",
            "                                     Goodness of fit metrics:                                     \n",
            "                                    R^2 of model fit is 0.9864                                    \n",
            "                                    Error of the fit is 0.0264                                    \n",
            "                                                                                                  \n",
            "==================================================================================================\n"
          ]
        }
      ],
      "source": [
        "# Print out the model results\n",
        "fm.print_results()"
      ]
    }
  ],
  "metadata": {
    "kernelspec": {
      "display_name": "Python 3",
      "language": "python",
      "name": "python3"
    },
    "language_info": {
      "codemirror_mode": {
        "name": "ipython",
        "version": 3
      },
      "file_extension": ".py",
      "mimetype": "text/x-python",
      "name": "python",
      "nbconvert_exporter": "python",
      "pygments_lexer": "ipython3",
      "version": "3.11.4"
    }
  },
  "nbformat": 4,
  "nbformat_minor": 0
}

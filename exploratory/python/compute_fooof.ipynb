{
 "cells": [
  {
   "cell_type": "code",
   "execution_count": 1,
   "metadata": {},
   "outputs": [],
   "source": [
    "%matplotlib inline"
   ]
  },
  {
   "cell_type": "code",
   "execution_count": 2,
   "metadata": {},
   "outputs": [
    {
     "name": "stderr",
     "output_type": "stream",
     "text": [
      "C:\\Users\\Mitarbeiter\\AppData\\Local\\Temp\\ipykernel_14932\\2263775452.py:7: DeprecationWarning: \n",
      "The `fooof` package is being deprecated and replaced by the `specparam` (spectral parameterization) package.\n",
      "This version of `fooof` (1.1) is fully functional, but will not be further updated.\n",
      "New projects are recommended to update to using `specparam` (see Changelog for details).\n",
      "  from fooof import FOOOF\n"
     ]
    }
   ],
   "source": [
    "import os\n",
    "import numpy as np\n",
    "import scipy.io as sio\n",
    "import matplotlib.pyplot as plt\n",
    "\n",
    "# Import the FOOOF object\n",
    "from fooof import FOOOF\n",
    "from fooof import FOOOFGroup"
   ]
  },
  {
   "cell_type": "code",
   "execution_count": 3,
   "metadata": {},
   "outputs": [],
   "source": [
    "# Data path\n",
    "data_path = '../../../results/features/power/PFC'\n",
    "# Output paths\n",
    "out_path = '../../../results/fooof/PFC_avg'\n",
    "out_path_group = '../../../results/fooof/PFC_group'\n",
    "figures_path = '../../../results/fooof/figures'\n",
    "# Frequency range to fit the fooof model\n",
    "freq_range = [2, 40]"
   ]
  },
  {
   "cell_type": "code",
   "execution_count": null,
   "metadata": {},
   "outputs": [],
   "source": [
    "for file in os.listdir(data_path):\n",
    "     filename = os.fsdecode(file)\n",
    "     bidsID = os.path.splitext(filename)[0]\n",
    "\n",
    "     # Import power files from matlab\n",
    "     mat = sio.loadmat(os.path.join(data_path,filename))\n",
    "     # Extract power and frequency from matlab structure\n",
    "     pow = np.squeeze(mat['pow'])\n",
    "     freq = np.squeeze(mat['freq'])\n",
    "     # Average across all PFC ROIS\n",
    "     avgpow = np.average(pow,0)\n",
    "\n",
    "     # Initialize a FOOOF object\n",
    "     fm = FOOOF()\n",
    "     # Fit the model\n",
    "     fm.fit(freq, avgpow, freq_range)\n",
    "     # Save report\n",
    "     # fm.save_report(bidsID, file_path=out_path)\n",
    "     # Extract FOOOF results from object\n",
    "     fooof_results = fm.get_results()\n",
    "     # Convert FOOOF results to a dictionary\n",
    "     fooof_results_dict = fooof_results._asdict()\n",
    "     # Save FOOOF results out to a mat file\n",
    "     fnameout = os.path.join(out_path, bidsID + '_fooof.mat')\n",
    "     sio.savemat(fnameout, fooof_results_dict)\n",
    "\n",
    "     # Plotting\n",
    "     # fig_name = bidsID + '_foof.svg'\n",
    "     # fig, ax = plt.subplots(figsize=[10, 7])\n",
    "     # plt.title(bidsID);\n",
    "     # fm.plot(save_fig=True,file_name=fig_name,file_path=figures_path, ax=ax)"
   ]
  },
  {
   "cell_type": "code",
   "execution_count": 4,
   "metadata": {},
   "outputs": [
    {
     "name": "stdout",
     "output_type": "stream",
     "text": [
      "Running FOOOFGroup across 4 power spectra.\n",
      "Running FOOOFGroup across 4 power spectra.\n",
      "Running FOOOFGroup across 4 power spectra.\n",
      "Running FOOOFGroup across 4 power spectra.\n",
      "Running FOOOFGroup across 4 power spectra.\n"
     ]
    }
   ],
   "source": [
    "for file in os.listdir(data_path):\n",
    "     filename = os.fsdecode(file)\n",
    "     bidsID = os.path.splitext(filename)[0]\n",
    "\n",
    "     # Import power files from matlab\n",
    "     mat = sio.loadmat(os.path.join(data_path,filename))\n",
    "     # Extract power and frequency from matlab structure\n",
    "     pow = np.squeeze(mat['pow'])\n",
    "     freq = np.squeeze(mat['freq'])\n",
    "    \n",
    "     # Initialize a FOOOF group object\n",
    "     fg = FOOOFGroup()\n",
    "     # Fit the model\n",
    "     fg.fit(freq, pow, freq_range)\n",
    "\n",
    "     # Extract FOOOF results from object\n",
    "     off = fg.get_params('aperiodic_params','offset')\n",
    "     exps = fg.get_params('aperiodic_params', 'exponent')\n",
    "     errors = fg.get_params('error')\n",
    "     r2s = fg.get_params('r_squared')\n",
    "\n",
    "     # Convert FOOOF results to a dictionary\n",
    "     fooof_results_dict = {'aperiodic_exp':exps,'aperiodic_off':off,'error':errors,'r2':r2s}\n",
    "\n",
    "     # Save FOOOF results out to a mat file\n",
    "     fnameout = os.path.join(out_path_group, bidsID + '_fooof.mat')\n",
    "     sio.savemat(fnameout, fooof_results_dict)\n"
   ]
  }
 ],
 "metadata": {
  "kernelspec": {
   "display_name": "1overf",
   "language": "python",
   "name": "python3"
  },
  "language_info": {
   "codemirror_mode": {
    "name": "ipython",
    "version": 3
   },
   "file_extension": ".py",
   "mimetype": "text/x-python",
   "name": "python",
   "nbconvert_exporter": "python",
   "pygments_lexer": "ipython3",
   "version": "3.11.4"
  },
  "orig_nbformat": 4
 },
 "nbformat": 4,
 "nbformat_minor": 2
}
